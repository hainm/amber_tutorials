{
 "cells": [
  {
   "cell_type": "markdown",
   "metadata": {},
   "source": [
    "# Prepare topology and starting file\n",
    "\n",
    "Note: There is nothing special about this peptide, it is a segment of [Trp-Cage Miniprotein](http://www.rcsb.org/pdb/explore/explore.do?pdbId=1l2y).\n",
    "\n",
    "If you are using GPU, you can use whole protein\n",
    "\n",
    "This tutorial use [GBNeck2 + ff14SBonlysc](http://pubs.acs.org/doi/abs/10.1021/ja5032776)"
   ]
  },
  {
   "cell_type": "code",
   "execution_count": 44,
   "metadata": {
    "collapsed": false
   },
   "outputs": [
    {
     "name": "stdout",
     "output_type": "stream",
     "text": [
      "Overwriting leap.in\n"
     ]
    }
   ],
   "source": [
    "%%file leap.in\n",
    "source leaprc.protein.ff14SBonlysc\n",
    "x = sequence {NASN LEU TYR CILE}\n",
    "set default PBradii mbondi3 \n",
    "saveamberparm x peptide.top peptide.crd\n",
    "savepdb x peptide.pdb \n",
    "quit"
   ]
  },
  {
   "cell_type": "code",
   "execution_count": 45,
   "metadata": {
    "collapsed": false
   },
   "outputs": [],
   "source": [
    "!$AMBERHOME/bin/tleap -f leap.in > leap.log"
   ]
  },
  {
   "cell_type": "code",
   "execution_count": 46,
   "metadata": {
    "collapsed": false
   },
   "outputs": [
    {
     "name": "stdout",
     "output_type": "stream",
     "text": [
      "peptide.crd  peptide.pdb  peptide.top\r\n"
     ]
    }
   ],
   "source": [
    "!ls peptide.*"
   ]
  },
  {
   "cell_type": "markdown",
   "metadata": {},
   "source": [
    "# Run minimization\n",
    "\n",
    "you can use any text editor to make min.in but we can do this in this notebook by `%%file` command"
   ]
  },
  {
   "cell_type": "code",
   "execution_count": 47,
   "metadata": {
    "collapsed": false
   },
   "outputs": [
    {
     "name": "stdout",
     "output_type": "stream",
     "text": [
      "Overwriting min.in\n"
     ]
    }
   ],
   "source": [
    "%%file min.in\n",
    "Stage 1 - minimisation of TC5b\n",
    "&cntrl\n",
    "  imin=1, maxcyc=1000, ncyc=500,\n",
    "  cut=999.,\n",
    "  igb=8,\n",
    "  ntb=0,\n",
    "  ntpr=100\n",
    "/\n",
    "\n"
   ]
  },
  {
   "cell_type": "code",
   "execution_count": 48,
   "metadata": {
    "collapsed": false
   },
   "outputs": [],
   "source": [
    "!$AMBERHOME/bin/sander -O -i min.in -p peptide.top -c peptide.crd -r min.rst7"
   ]
  },
  {
   "cell_type": "markdown",
   "metadata": {},
   "source": [
    "# Real time visualizing simulation"
   ]
  },
  {
   "cell_type": "code",
   "execution_count": 49,
   "metadata": {
    "collapsed": true
   },
   "outputs": [],
   "source": [
    "# used for reading coordinates from rst7 file\n",
    "# pytraj is available in AmberTools16\n",
    "import pytraj as pt\n",
    "\n",
    "# use nglview for visualizing this notebook\n",
    "# it's available in https://github.com/arose/nglview\n",
    "import nglview as nv"
   ]
  },
  {
   "cell_type": "code",
   "execution_count": 50,
   "metadata": {
    "collapsed": false
   },
   "outputs": [
    {
     "data": {
      "text/plain": [
       "pytraj.Trajectory, 1 frames: \n",
       "Size: 0.000002 (GB)\n",
       "<Topology: 76 atoms, 4 residues, 1 mols, non-PBC>\n",
       "           "
      ]
     },
     "execution_count": 50,
     "metadata": {},
     "output_type": "execute_result"
    }
   ],
   "source": [
    "# load minimized struture and use it as reference for superposing\n",
    "ref = pt.load('min.rst7', top='peptide.top')\n",
    "ref"
   ]
  },
  {
   "cell_type": "code",
   "execution_count": 51,
   "metadata": {
    "collapsed": true
   },
   "outputs": [],
   "source": [
    "# load coordinates restart file (md.rst)\n",
    "def get_coordinates():\n",
    "    # return coordinates in restart file\n",
    "    traj = pt.load('md.rst', top=ref.top)\n",
    "    \n",
    "    # perform superpose to min.rst7 to remove translation and rotation\n",
    "    # superpose is similiar to cpptraj's rms\n",
    "    traj.superpose(ref=ref, mask='@CA,N,O')\n",
    "    return traj.xyz[0]"
   ]
  },
  {
   "cell_type": "code",
   "execution_count": 52,
   "metadata": {
    "collapsed": true
   },
   "outputs": [],
   "source": [
    "# view starting structure (min.rst7)\n",
    "view = nv.show_pytraj(ref)\n",
    "view"
   ]
  },
  {
   "cell_type": "code",
   "execution_count": 53,
   "metadata": {
    "collapsed": false
   },
   "outputs": [],
   "source": [
    "view.clear_representations()\n",
    "view.add_ball_and_stick()\n",
    "view.add_cartoon()"
   ]
  },
  {
   "cell_type": "code",
   "execution_count": 54,
   "metadata": {
    "collapsed": true
   },
   "outputs": [],
   "source": [
    "def update_view(view, delay=1):\n",
    "    # update coordinates every `delay` second\n",
    "    from time import sleep\n",
    "    coordinates = get_coordinates()\n",
    "    view.coordinates_dict = {0: coordinates}\n",
    "    sleep(delay)"
   ]
  },
  {
   "cell_type": "code",
   "execution_count": 55,
   "metadata": {
    "collapsed": false
   },
   "outputs": [
    {
     "name": "stdout",
     "output_type": "stream",
     "text": [
      "Overwriting md.in\n"
     ]
    }
   ],
   "source": [
    "%%file md.in\n",
    "md.in\n",
    "&cntrl\n",
    "       imin = 0, nstlim = 1000000, dt = 0.002,\n",
    "       ntx = 1, irest = 0, ig = -1,\n",
    "       ntt=3, tempi = 300.0, temp0 = 300.0, gamma_ln = 1.0,\n",
    "       ntc = 2, ntf = 2,\n",
    "       ntwx = 25000, ntwe = 0, ntwr = 100, ntpr = 25000,\n",
    "       cut = 999.0,\n",
    "       ntb = 0,\n",
    "       igb = 8, gbsa = 0,\n",
    "       nscm = 25000,\n",
    "       ioutfm = 1,\n",
    "/\n",
    "\n"
   ]
  },
  {
   "cell_type": "code",
   "execution_count": 56,
   "metadata": {
    "collapsed": false
   },
   "outputs": [],
   "source": [
    "def run_md():\n",
    "    # run md simulation via sander\n",
    "    import os\n",
    "    import subprocess\n",
    "    \n",
    "    # you can use sander.MPI, pmemd, pmemd.MPI, pmemd.cuda too\n",
    "    # need to provide absolute directory for sander\n",
    "    sander = os.getenv('AMBERHOME') + '/bin/sander'\n",
    "    cm = \"sander -O -i md.in -o md.out -p peptide.top -c min.rst7 -r md.rst -x md.nc\".format(sander=sander)\n",
    "    \n",
    "    # we will run sander in background so we can keep using this notebook\n",
    "    print('running {}'.format(cm))\n",
    "    return subprocess.Popen(cm.split())"
   ]
  },
  {
   "cell_type": "code",
   "execution_count": 57,
   "metadata": {
    "collapsed": false
   },
   "outputs": [
    {
     "name": "stdout",
     "output_type": "stream",
     "text": [
      "running sander -O -i md.in -o md.out -p peptide.top -c min.rst7 -r md.rst -x md.nc\n"
     ]
    }
   ],
   "source": [
    "# run MD simulation in background so we can keep using this notebook\n",
    "process = run_md()"
   ]
  },
  {
   "cell_type": "code",
   "execution_count": 58,
   "metadata": {
    "collapsed": false
   },
   "outputs": [
    {
     "ename": "KeyboardInterrupt",
     "evalue": "",
     "output_type": "error",
     "traceback": [
      "\u001b[1;31m---------------------------------------------------------------------------\u001b[0m",
      "\u001b[1;31mKeyboardInterrupt\u001b[0m                         Traceback (most recent call last)",
      "\u001b[1;32m<ipython-input-58-c7a81a9973ae>\u001b[0m in \u001b[0;36m<module>\u001b[1;34m()\u001b[0m\n\u001b[0;32m      4\u001b[0m \u001b[1;31m# to rerun, you need to run previous command process = run_md()\u001b[0m\u001b[1;33m\u001b[0m\u001b[1;33m\u001b[0m\u001b[0m\n\u001b[0;32m      5\u001b[0m \u001b[1;32mwhile\u001b[0m \u001b[1;32mTrue\u001b[0m\u001b[1;33m:\u001b[0m\u001b[1;33m\u001b[0m\u001b[0m\n\u001b[1;32m----> 6\u001b[1;33m     \u001b[0mupdate_view\u001b[0m\u001b[1;33m(\u001b[0m\u001b[0mview\u001b[0m\u001b[1;33m,\u001b[0m \u001b[1;36m0.1\u001b[0m\u001b[1;33m)\u001b[0m\u001b[1;33m\u001b[0m\u001b[0m\n\u001b[0m\u001b[0;32m      7\u001b[0m \u001b[1;33m\u001b[0m\u001b[0m\n\u001b[0;32m      8\u001b[0m \u001b[1;31m# While this cell is running, scroll up to see your real time animation. Enjoy\u001b[0m\u001b[1;33m\u001b[0m\u001b[1;33m\u001b[0m\u001b[0m\n",
      "\u001b[1;32m<ipython-input-54-4039b925cfaf>\u001b[0m in \u001b[0;36mupdate_view\u001b[1;34m(view, delay)\u001b[0m\n\u001b[0;32m      4\u001b[0m     \u001b[0mcoordinates\u001b[0m \u001b[1;33m=\u001b[0m \u001b[0mget_coordinates\u001b[0m\u001b[1;33m(\u001b[0m\u001b[1;33m)\u001b[0m\u001b[1;33m\u001b[0m\u001b[0m\n\u001b[0;32m      5\u001b[0m     \u001b[0mview\u001b[0m\u001b[1;33m.\u001b[0m\u001b[0mcoordinates_dict\u001b[0m \u001b[1;33m=\u001b[0m \u001b[1;33m{\u001b[0m\u001b[1;36m0\u001b[0m\u001b[1;33m:\u001b[0m \u001b[0mcoordinates\u001b[0m\u001b[1;33m}\u001b[0m\u001b[1;33m\u001b[0m\u001b[0m\n\u001b[1;32m----> 6\u001b[1;33m     \u001b[0msleep\u001b[0m\u001b[1;33m(\u001b[0m\u001b[0mdelay\u001b[0m\u001b[1;33m)\u001b[0m\u001b[1;33m\u001b[0m\u001b[0m\n\u001b[0m",
      "\u001b[1;31mKeyboardInterrupt\u001b[0m: "
     ]
    }
   ],
   "source": [
    "# continously update coordinates\n",
    "# To interupt, you need to choose Kernel --> Interupt (top page)\n",
    "\n",
    "# to rerun, you need to run previous command process = run_md()\n",
    "while True:\n",
    "    update_view(view, 0.1)\n",
    "    \n",
    "# While this cell is running, scroll up to see your real time animation. Enjoy"
   ]
  },
  {
   "cell_type": "code",
   "execution_count": 28,
   "metadata": {
    "collapsed": true
   },
   "outputs": [],
   "source": [
    "# to kill MD simulation (sander), run this cell\n",
    "process.kill()"
   ]
  }
 ],
 "metadata": {
  "kernelspec": {
   "display_name": "Python 3",
   "language": "python",
   "name": "python3"
  },
  "language_info": {
   "codemirror_mode": {
    "name": "ipython",
    "version": 3
   },
   "file_extension": ".py",
   "mimetype": "text/x-python",
   "name": "python",
   "nbconvert_exporter": "python",
   "pygments_lexer": "ipython3",
   "version": "3.5.1"
  }
 },
 "nbformat": 4,
 "nbformat_minor": 0
}
