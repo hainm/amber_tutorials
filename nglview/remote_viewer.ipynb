{
 "cells": [
  {
   "cell_type": "code",
   "execution_count": 1,
   "metadata": {
    "collapsed": false
   },
   "outputs": [],
   "source": [
    "import pytraj as pt\n",
    "import nglview as nv"
   ]
  },
  {
   "cell_type": "code",
   "execution_count": 2,
   "metadata": {
    "collapsed": false
   },
   "outputs": [
    {
     "name": "stdout",
     "output_type": "stream",
     "text": [
      "1aaj_tutorial//min_NoH_empty_tag_0001_0001.rst7\r\n",
      "1aaj_tutorial//min_NoH_empty_tag_1_0001_1.rst7\r\n",
      "1aaj_tutorial//min_NoH_empty_tag_1_0001.rst7\r\n"
     ]
    }
   ],
   "source": [
    "# Supposed you want to load a series of rst7 files\n",
    "!ls 1aaj_tutorial//*rst7 |head -3"
   ]
  },
  {
   "cell_type": "code",
   "execution_count": 3,
   "metadata": {
    "collapsed": false
   },
   "outputs": [],
   "source": [
    "# structures to pdb\n",
    "\n",
    "traj = pt.load('1aaj_tutorial//min*.rst7', '1aaj_tutorial/1aaj.parm7')\n",
    "\n",
    "# using pytraj to superpose\n",
    "traj = pt.superpose(traj, ref=0)"
   ]
  },
  {
   "cell_type": "code",
   "execution_count": 4,
   "metadata": {
    "collapsed": true
   },
   "outputs": [],
   "source": [
    "view = nv.show_pytraj(traj)\n",
    "view"
   ]
  },
  {
   "cell_type": "code",
   "execution_count": 5,
   "metadata": {
    "collapsed": true
   },
   "outputs": [],
   "source": [
    "view.representations = []\n",
    "view.add_representation('cartoon', color='residueindex')"
   ]
  }
 ],
 "metadata": {
  "kernelspec": {
   "display_name": "Python 3",
   "language": "python",
   "name": "python3"
  },
  "language_info": {
   "codemirror_mode": {
    "name": "ipython",
    "version": 3
   },
   "file_extension": ".py",
   "mimetype": "text/x-python",
   "name": "python",
   "nbconvert_exporter": "python",
   "pygments_lexer": "ipython3",
   "version": "3.4.4"
  }
 },
 "nbformat": 4,
 "nbformat_minor": 0
}
