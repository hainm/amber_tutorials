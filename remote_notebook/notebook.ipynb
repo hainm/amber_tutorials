{
 "cells": [
  {
   "cell_type": "markdown",
   "metadata": {},
   "source": [
    "## <center> AMBER Tutorial </center>\n",
    "# <center> Using Jupyter notebook securely in remote cluster </center>\n",
    "### <center> By Hai Nguyen (BSD 2-clause) </center>"
   ]
  },
  {
   "cell_type": "markdown",
   "metadata": {},
   "source": [
    "## Motivation\n",
    "\n",
    "Your data (may be TB) is in your remote cluster. You want to access and interactively play with your data in Jupyter notebook. You can use xwin to open your Jupyter notebook on remote host. However, this kind of connection is quite slow.\n",
    "\n",
    "You can follow each step below to have fast connection via SSH port forwarding."
   ]
  },
  {
   "cell_type": "markdown",
   "metadata": {},
   "source": [
    "## 1. In remote cluster\n",
    "\n",
    "(remote cluster is where you store your data)\n",
    "\n",
    "```bash\n",
    "- cd /to/your/working/folder\n",
    "- amber.jupyter notebook --no-browser --port=8000\n",
    "```\n",
    "\n",
    "Note: Use can specify any available port number\n",
    "\n",
    "You will see something similiar to below\n",
    "\n",
    "```bash\n",
    "    $ amber.jupyter notebook --no-browser --port=8000\n",
    "    [I 15:12:45.032 NotebookApp] Serving notebooks from local directory: /u1/haichit/tutorials\n",
    "    [I 15:12:45.032 NotebookApp] 0 active kernels \n",
    "    [I 15:12:45.032 NotebookApp] The Jupyter Notebook is running at: http://localhost:8000/\n",
    "    [I 15:12:45.032 NotebookApp] Use Control-C to stop this server and shut down all kernels (twice to skip confirmation).\n",
    "    [I 15:15:51.028 NotebookApp] 302 GET / (127.0.0.1) 1.66ms\n",
    "```"
   ]
  },
  {
   "cell_type": "markdown",
   "metadata": {},
   "source": [
    "## 2. In your local machine (Windows, Mac laptop, ...)\n",
    "\n",
    "- Open your terminal and type:\n",
    "    ```bash\n",
    "    ssh -N -f -L localhost:8000:localhost:8000 your_account@your_cluster_address\n",
    "    ```\n",
    "\n",
    "    Note: replace \"your_account@your_cluster_address\" to your real login account (e.g: hc@fancy.rutgers.edu)\n",
    "    \n",
    "    \n",
    "- Now open web browswer, type \"localhost:8000\"\n"
   ]
  },
  {
   "cell_type": "markdown",
   "metadata": {
    "collapsed": false
   },
   "source": [
    "<img src=images/jupyter_open_dashboard.png> </img>"
   ]
  },
  {
   "cell_type": "markdown",
   "metadata": {},
   "source": [
    "- click \"New\" to create a new notebook\n",
    "\n",
    "<img src=images/jupyter_open.png></img>"
   ]
  },
  {
   "cell_type": "markdown",
   "metadata": {},
   "source": [
    "- Type the command in each cell and then hit **Shift-Enter** to run and to create new Cell. \n",
    "\n",
    "<img src=images/jupyter_try.png></img>"
   ]
  }
 ],
 "metadata": {
  "kernelspec": {
   "display_name": "Python 3",
   "language": "python",
   "name": "python3"
  },
  "language_info": {
   "codemirror_mode": {
    "name": "ipython",
    "version": 3
   },
   "file_extension": ".py",
   "mimetype": "text/x-python",
   "name": "python",
   "nbconvert_exporter": "python",
   "pygments_lexer": "ipython3",
   "version": "3.5.1"
  }
 },
 "nbformat": 4,
 "nbformat_minor": 0
}
