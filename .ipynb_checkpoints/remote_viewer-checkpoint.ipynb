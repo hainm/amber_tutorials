{
 "cells": [
  {
   "cell_type": "code",
   "execution_count": 3,
   "metadata": {
    "collapsed": false
   },
   "outputs": [],
   "source": [
    "import pytraj as pt\n",
    "import nglview as nv"
   ]
  },
  {
   "cell_type": "code",
   "execution_count": 4,
   "metadata": {
    "collapsed": false
   },
   "outputs": [
    {
     "name": "stdout",
     "output_type": "stream",
     "text": [
      "3hsc/NoH_3hsc_3hsc10008_0001.rst7\r\n",
      "3hsc/NoH_3hsc_3hsc10030_0001.rst7\r\n",
      "3hsc/NoH_3hsc_3hsc10052_0001.rst7\r\n",
      "3hsc/NoH_3hsc_3hsc1006_0001.rst7\r\n",
      "3hsc/NoH_3hsc_3hsc10074_0001.rst7\r\n",
      "3hsc/NoH_3hsc_3hsc10096_0001.rst7\r\n",
      "3hsc/NoH_3hsc_3hsc1010_0001.rst7\r\n",
      "3hsc/NoH_3hsc_3hsc10118_0001.rst7\r\n",
      "3hsc/NoH_3hsc_3hsc10140_0001.rst7\r\n",
      "3hsc/NoH_3hsc_3hsc10162_0001.rst7\r\n"
     ]
    }
   ],
   "source": [
    "!ls 3hsc/*rst7 |head"
   ]
  },
  {
   "cell_type": "code",
   "execution_count": 5,
   "metadata": {
    "collapsed": true
   },
   "outputs": [],
   "source": [
    "# structures to pdb\n",
    "\n",
    "# traj = pt.load('3hsc/*rst7', '3hsc/3hsc.parm7')"
   ]
  },
  {
   "cell_type": "code",
   "execution_count": 12,
   "metadata": {
    "collapsed": true
   },
   "outputs": [],
   "source": [
    "view = nv.show_pytraj(traj)\n",
    "view"
   ]
  },
  {
   "cell_type": "code",
   "execution_count": 13,
   "metadata": {
    "collapsed": true
   },
   "outputs": [],
   "source": [
    "view.representations = []\n",
    "view.add_representation('cartoon')"
   ]
  }
 ],
 "metadata": {
  "kernelspec": {
   "display_name": "Python 3",
   "language": "python",
   "name": "python3"
  },
  "language_info": {
   "codemirror_mode": {
    "name": "ipython",
    "version": 3
   },
   "file_extension": ".py",
   "mimetype": "text/x-python",
   "name": "python",
   "nbconvert_exporter": "python",
   "pygments_lexer": "ipython3",
   "version": "3.4.4"
  }
 },
 "nbformat": 4,
 "nbformat_minor": 0
}
