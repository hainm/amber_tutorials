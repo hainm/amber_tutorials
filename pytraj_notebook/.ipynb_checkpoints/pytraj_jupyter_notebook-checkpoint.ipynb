{
 "cells": [
  {
   "cell_type": "markdown",
   "metadata": {},
   "source": [
    "# Interactive data analysis with pytraj and Jupyter notebook\n",
    "\n",
    "(C) - Hai Nguyen (BSD license)"
   ]
  },
  {
   "cell_type": "markdown",
   "metadata": {},
   "source": [
    "## What is Jupyter notebook?\n",
    "\n",
    "Direct introduction and figure from [Jupyter notebook website](http://jupyter.org/):\n",
    "\n",
    "\"The Jupyter Notebook is a web application that allows you to create and share documents that contain live code, equations, visualizations and explanatory text. Uses include: data cleaning and transformation, numerical simulation, statistical modeling, machine learning and much more.\"\n",
    "\n",
    "<img src=\"jupyterpreview.png\", width=500>\n",
    "\n"
   ]
  },
  {
   "cell_type": "markdown",
   "metadata": {},
   "source": [
    "## What is pytraj?\n",
    "\n",
    "pytraj is a Python package binding to the popular cpptraj program. pytraj is written do extend the flexibility of cpptraj and to expose cpptraj's functionality to Python's ecossytem, such as numpy, pandas, matplotlib, ..."
   ]
  },
  {
   "cell_type": "markdown",
   "metadata": {},
   "source": [
    "## What can you learn from this tutorial\n",
    "\n",
    "- Use Jupyter notebook for interective data exploration\n",
    "\n",
    "- Use pytraj to perform basis analysis such computing RMSD, center of mass distance, dihedral angles, ...\n",
    "\n",
    "- Use matplotlib and pandas for analyzing output from pytraj\n"
   ]
  },
  {
   "cell_type": "markdown",
   "metadata": {},
   "source": [
    "## Requirement\n",
    "\n",
    "- [AmberTools >= 16](http://ambermd.org/#AmberTools)\n",
    "- If you allow AMBER to install Python distribution from Miniconda, you have all needed packages for this tutorial.\n",
    "- If not, you need to install (either using `pip` or `conda`)\n",
    "    - matplotlib\n",
    "    - pandas\n",
    "    - jupyter notebook"
   ]
  },
  {
   "cell_type": "markdown",
   "metadata": {},
   "source": [
    "### Start notebook\n",
    "\n",
    "```bash\n",
    "    amber.jupyter notebook\n",
    "```\n",
    "\n",
    "- If you want to use the notebook remotely (run it in your remote cluster and view it in your desktop), please check [remote notebook tutorial]()\n",
    "\n",
    "- **Note**: This tutorial is written in the Jupyter notebook, so you can [download]() and run it too.\n",
    "\n",
    "- How to follow this tutorial? Copy and paste each command in this tutorial to the notebook, hit \"**Shift-Enter**\" to run and to create new Cell."
   ]
  },
  {
   "cell_type": "markdown",
   "metadata": {},
   "source": [
    "## Tips\n",
    "\n",
    "- Run bash command: Use !"
   ]
  },
  {
   "cell_type": "code",
   "execution_count": 12,
   "metadata": {
    "collapsed": false
   },
   "outputs": [
    {
     "name": "stdout",
     "output_type": "stream",
     "text": [
      "Hello\r\n"
     ]
    }
   ],
   "source": [
    "! echo Hello"
   ]
  },
  {
   "cell_type": "markdown",
   "metadata": {},
   "source": [
    "- How to run this notebook?\n",
    "    \n",
    "    - Run all commands: **Cell -> Run All**\n",
    "    - Run each Cell: **Ctrl-Enter**\n",
    "    - Run each Cell and jump to next Cell: **Shift-Enter**\n",
    "- More info? Choose Help -> **Keyboard Shortcuts**"
   ]
  },
  {
   "cell_type": "code",
   "execution_count": null,
   "metadata": {
    "collapsed": true
   },
   "outputs": [],
   "source": []
  }
 ],
 "metadata": {
  "kernelspec": {
   "display_name": "Python 3",
   "language": "python",
   "name": "python3"
  },
  "language_info": {
   "codemirror_mode": {
    "name": "ipython",
    "version": 3
   },
   "file_extension": ".py",
   "mimetype": "text/x-python",
   "name": "python",
   "nbconvert_exporter": "python",
   "pygments_lexer": "ipython3",
   "version": "3.5.1"
  }
 },
 "nbformat": 4,
 "nbformat_minor": 0
}
