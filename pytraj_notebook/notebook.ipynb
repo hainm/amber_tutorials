{
 "cells": [
  {
   "cell_type": "markdown",
   "metadata": {},
   "source": [
    "## <center> AMBER Tutorial </center>\n",
    "# <center> Interactive data analysis with pytraj and Jupyter notebook </center>\n",
    "### <center> By Hai Nguyen (BSD 2-clause) </center>"
   ]
  },
  {
   "cell_type": "markdown",
   "metadata": {},
   "source": [
    "## What is Jupyter notebook?\n",
    "\n",
    "Direct introduction and figure from [Jupyter notebook website](http://jupyter.org/):\n",
    "\n",
    "\"The Jupyter Notebook is a web application that allows you to create and share documents that contain live code, equations, visualizations and explanatory text. Uses include: data cleaning and transformation, numerical simulation, statistical modeling, machine learning and much more.\"\n",
    "\n",
    "<img src=\"images/jupyterpreview.png\", width=500>\n",
    "\n"
   ]
  },
  {
   "cell_type": "markdown",
   "metadata": {},
   "source": [
    "## What is pytraj?\n",
    "\n",
    "**pytyraj** is a Python package binding to the popular **cpptraj** program. pytraj is written do extend the flexibility of cpptraj and to expose cpptraj's functionality to Python's ecossytem, such as numpy, pandas, matplotlib, ..."
   ]
  },
  {
   "cell_type": "markdown",
   "metadata": {},
   "source": [
    "## What can you learn from this tutorial\n",
    "\n",
    "- Use Jupyter notebook for interective data exploration\n",
    "\n",
    "- Use pytraj to perform basis analysis such computing RMSD, center of mass distance, dihedral angles, ...\n",
    "\n",
    "- Use matplotlib and pandas for analyzing output from pytraj\n"
   ]
  },
  {
   "cell_type": "markdown",
   "metadata": {},
   "source": [
    "## Requirement\n",
    "\n",
    "- [AmberTools >= 16](http://ambermd.org/#AmberTools)\n",
    "- If you allow AMBER to install Python distribution from Miniconda, you have all needed packages for this tutorial.\n",
    "- If not, you need to install (either using `pip` or `conda`)\n",
    "    - matplotlib\n",
    "    - jupyter notebook\n",
    "- Install [pandas](http://pandas.pydata.org/): \n",
    "    ```bash\n",
    "     amber.conda install pandas\n",
    "    ```\n",
    "- You know how to use Linux command line. If not, please check [basic AMBER tutorial](http://ambermd.org/tutorials/basic/tutorial0/)"
   ]
  },
  {
   "cell_type": "markdown",
   "metadata": {},
   "source": [
    "## Download requried trajetories, topology\n",
    "\n",
    "[trpzip2.gb.nc](http://ambermd.org/tutorials/analysis/tutorial1/trpzip2.gb.nc)\n",
    "\n",
    "[trpzip2.ff10.mbondi2.parm7](http://ambermd.org/tutorials/analysis/tutorial1/trpzip2.ff10.mbondi.parm7)\n",
    "\n",
    "[trpzip2.1LE1.1.rst7](http://ambermd.org/tutorials/analysis/tutorial1/trpzip2.1LE1.1.rst7)\n",
    "\n",
    "Or open the website: http://ambermd.org/tutorials/analysis/tutorial1/ and manually download them."
   ]
  },
  {
   "cell_type": "markdown",
   "metadata": {},
   "source": [
    "### Start notebook\n",
    "\n",
    "```bash\n",
    "$ amber.jupyter notebook\n",
    "(or jupyter notebook if you did not allow AMBER to install Miniconda)\n",
    "```\n",
    "\n",
    "- If you want to use the notebook remotely (run it in your remote cluster and view it in your desktop), please check [remote notebook tutorial](http://amber-md.github.io/pytraj/latest/tutorials/remote_jupyter_notebook)\n",
    "\n",
    "- **Note**: This tutorial is written in the Jupyter notebook, so you can [download](./notebook.ipynb) and run it too.\n",
    "\n",
    "- How to follow this tutorial? Copy and paste each command in this tutorial to the notebook, hit \"**Shift-Enter**\" to run and to create new Cell. Check **Tips** in the end of this tutorial for useful commands.\n",
    "\n",
    "- You should expect to see\n",
    "\n",
    "![](images/jupyter_open.png)\n",
    "\n",
    "- Choose New --> Python 2 (or Python 3, depending on which version you're using)\n",
    "\n",
    "- You should expect to see\n",
    "![](images/jupyter_new.png)\n",
    "\n",
    "Then you can copy/paste and run commands."
   ]
  },
  {
   "cell_type": "markdown",
   "metadata": {},
   "source": [
    "### Load trajectory to memory"
   ]
  },
  {
   "cell_type": "code",
   "execution_count": 1,
   "metadata": {
    "collapsed": false
   },
   "outputs": [],
   "source": [
    "from __future__ import print_function\n",
    "import pytraj as pt\n",
    "\n",
    "traj = pt.load('data/trpzip2.gb.nc', top='data/trpzip2.ff10.mbondi.parm7')"
   ]
  },
  {
   "cell_type": "markdown",
   "metadata": {},
   "source": [
    "### Get some basic information about the trajectory"
   ]
  },
  {
   "cell_type": "code",
   "execution_count": 2,
   "metadata": {
    "collapsed": false
   },
   "outputs": [
    {
     "name": "stdout",
     "output_type": "stream",
     "text": [
      "pytraj.Trajectory, 1201 frames: \n",
      "Size: 0.005906 (GB)\n",
      "<Topology: 220 atoms, 13 residues, 1 mols, non-PBC>\n",
      "           \n"
     ]
    }
   ],
   "source": [
    "print(traj)"
   ]
  },
  {
   "cell_type": "markdown",
   "metadata": {},
   "source": [
    "### Calculating RMSD, using 1st frame as reference\n",
    "\n",
    "In this case we are computing mass-weighted RMSD, using all non-hydrogen atoms in residues 1 to 13"
   ]
  },
  {
   "cell_type": "code",
   "execution_count": 3,
   "metadata": {
    "collapsed": false
   },
   "outputs": [
    {
     "name": "stdout",
     "output_type": "stream",
     "text": [
      "[  2.30050392e-07   7.92393865e-01   9.72257525e-01 ...,   2.51047183e+00\n",
      "   2.44805673e+00   2.33894156e+00]\n"
     ]
    }
   ],
   "source": [
    "data_rmsd_first = pt.rmsd(traj, ref=0, mask=\":1-13&!@H*\")\n",
    "\n",
    "print(data_rmsd_first)"
   ]
  },
  {
   "cell_type": "markdown",
   "metadata": {},
   "source": [
    "### Using matplotlib to plot"
   ]
  },
  {
   "cell_type": "code",
   "execution_count": 4,
   "metadata": {
    "collapsed": false
   },
   "outputs": [
    {
     "data": {
      "text/plain": [
       "<matplotlib.text.Text at 0x2aaacfff4080>"
      ]
     },
     "execution_count": 4,
     "metadata": {},
     "output_type": "execute_result"
    },
    {
     "data": {
      "image/png": "[encoded data removed]",
      "text/plain": [
       "<matplotlib.figure.Figure at 0x2aaacccbf390>"
      ]
     },
     "metadata": {},
     "output_type": "display_data"
    }
   ],
   "source": [
    "%matplotlib inline\n",
    "\n",
    "from matplotlib import pyplot as plt\n",
    "\n",
    "plt.plot(data_rmsd_first)\n",
    "plt.xlabel('Frame')\n",
    "plt.ylabel('RMSD (Angstrom)')"
   ]
  },
  {
   "cell_type": "markdown",
   "metadata": {},
   "source": [
    "### Loading reference structure\n",
    "\n",
    "In this case, we are loading the NMR structure for trpzip2"
   ]
  },
  {
   "cell_type": "code",
   "execution_count": 5,
   "metadata": {
    "collapsed": false
   },
   "outputs": [
    {
     "ename": "ValueError",
     "evalue": "must provie a filename or list of filenames or file pattern",
     "output_type": "error",
     "traceback": [
      "\u001b[1;31m---------------------------------------------------------------------------\u001b[0m",
      "\u001b[1;31mValueError\u001b[0m                                Traceback (most recent call last)",
      "\u001b[1;32m<ipython-input-5-9211f99eb368>\u001b[0m in \u001b[0;36m<module>\u001b[1;34m()\u001b[0m\n\u001b[0;32m      1\u001b[0m \u001b[1;31m# we can reuse loaded topology from `traj`\u001b[0m\u001b[1;33m\u001b[0m\u001b[1;33m\u001b[0m\u001b[0m\n\u001b[1;32m----> 2\u001b[1;33m \u001b[0mref\u001b[0m \u001b[1;33m=\u001b[0m \u001b[0mpt\u001b[0m\u001b[1;33m.\u001b[0m\u001b[0mload\u001b[0m\u001b[1;33m(\u001b[0m\u001b[1;34m'trpzip2.1LE1.1.rst7'\u001b[0m\u001b[1;33m,\u001b[0m \u001b[0mtop\u001b[0m\u001b[1;33m=\u001b[0m\u001b[0mtraj\u001b[0m\u001b[1;33m.\u001b[0m\u001b[0mtop\u001b[0m\u001b[1;33m)\u001b[0m\u001b[1;33m\u001b[0m\u001b[0m\n\u001b[0m\u001b[0;32m      3\u001b[0m \u001b[0mprint\u001b[0m\u001b[1;33m(\u001b[0m\u001b[0mref\u001b[0m\u001b[1;33m)\u001b[0m\u001b[1;33m\u001b[0m\u001b[0m\n",
      "\u001b[1;32m/u1/haichit/pytraj_git/pytraj/pytraj/io.py\u001b[0m in \u001b[0;36mload\u001b[1;34m(filename, top, frame_indices, mask, stride)\u001b[0m\n\u001b[0;32m    122\u001b[0m     \u001b[1;31m# load to TrajectoryIterator object first\u001b[0m\u001b[1;33m\u001b[0m\u001b[1;33m\u001b[0m\u001b[0m\n\u001b[0;32m    123\u001b[0m     \u001b[1;31m# do not use frame_indices_ here so we can optimize the slicing speed\u001b[0m\u001b[1;33m\u001b[0m\u001b[1;33m\u001b[0m\u001b[0m\n\u001b[1;32m--> 124\u001b[1;33m     \u001b[0mtraj\u001b[0m \u001b[1;33m=\u001b[0m \u001b[0mload_traj\u001b[0m\u001b[1;33m(\u001b[0m\u001b[0mfilename\u001b[0m\u001b[1;33m,\u001b[0m \u001b[0mtop\u001b[0m\u001b[1;33m,\u001b[0m \u001b[0mstride\u001b[0m\u001b[1;33m=\u001b[0m\u001b[0mstride\u001b[0m\u001b[1;33m)\u001b[0m\u001b[1;33m\u001b[0m\u001b[0m\n\u001b[0m\u001b[0;32m    125\u001b[0m \u001b[1;33m\u001b[0m\u001b[0m\n\u001b[0;32m    126\u001b[0m     \u001b[1;31m# do the slicing and other things if needed.\u001b[0m\u001b[1;33m\u001b[0m\u001b[1;33m\u001b[0m\u001b[0m\n",
      "\u001b[1;32m/u1/haichit/pytraj_git/pytraj/pytraj/io.py\u001b[0m in \u001b[0;36mload_traj\u001b[1;34m(filename, top, *args, **kwd)\u001b[0m\n\u001b[0;32m    244\u001b[0m \u001b[1;33m\u001b[0m\u001b[0m\n\u001b[0;32m    245\u001b[0m     \u001b[1;32mif\u001b[0m \u001b[1;34m'stride'\u001b[0m \u001b[1;32min\u001b[0m \u001b[0mkwd\u001b[0m\u001b[1;33m:\u001b[0m\u001b[1;33m\u001b[0m\u001b[0m\n\u001b[1;32m--> 246\u001b[1;33m         \u001b[0mts\u001b[0m\u001b[1;33m.\u001b[0m\u001b[0m_load\u001b[0m\u001b[1;33m(\u001b[0m\u001b[0mfilename\u001b[0m\u001b[1;33m,\u001b[0m \u001b[0mstride\u001b[0m\u001b[1;33m=\u001b[0m\u001b[0mkwd\u001b[0m\u001b[1;33m[\u001b[0m\u001b[1;34m'stride'\u001b[0m\u001b[1;33m]\u001b[0m\u001b[1;33m)\u001b[0m\u001b[1;33m\u001b[0m\u001b[0m\n\u001b[0m\u001b[0;32m    247\u001b[0m     \u001b[1;32melif\u001b[0m \u001b[1;34m'frame_slice'\u001b[0m \u001b[1;32min\u001b[0m \u001b[0mkwd\u001b[0m\u001b[1;33m:\u001b[0m\u001b[1;33m\u001b[0m\u001b[0m\n\u001b[0;32m    248\u001b[0m         \u001b[0mts\u001b[0m\u001b[1;33m.\u001b[0m\u001b[0m_load\u001b[0m\u001b[1;33m(\u001b[0m\u001b[0mfilename\u001b[0m\u001b[1;33m,\u001b[0m \u001b[0mframe_slice\u001b[0m\u001b[1;33m=\u001b[0m\u001b[0mkwd\u001b[0m\u001b[1;33m[\u001b[0m\u001b[1;34m'frame_slice'\u001b[0m\u001b[1;33m]\u001b[0m\u001b[1;33m)\u001b[0m\u001b[1;33m\u001b[0m\u001b[0m\n",
      "\u001b[1;32m/u1/haichit/pytraj_git/pytraj/pytraj/trajectory_iterator.py\u001b[0m in \u001b[0;36m_load\u001b[1;34m(self, filename, top, frame_slice, stride)\u001b[0m\n\u001b[0;32m    207\u001b[0m             \u001b[1;32mif\u001b[0m \u001b[1;32mnot\u001b[0m \u001b[0mflist\u001b[0m\u001b[1;33m:\u001b[0m\u001b[1;33m\u001b[0m\u001b[0m\n\u001b[0;32m    208\u001b[0m                 raise ValueError(\n\u001b[1;32m--> 209\u001b[1;33m                     \"must provie a filename or list of filenames or file pattern\")\n\u001b[0m\u001b[0;32m    210\u001b[0m                 \u001b[0mframe_slice_\u001b[0m \u001b[1;33m=\u001b[0m \u001b[1;33m[\u001b[0m\u001b[1;33m(\u001b[0m\u001b[1;36m0\u001b[0m\u001b[1;33m,\u001b[0m \u001b[1;33m-\u001b[0m\u001b[1;36m1\u001b[0m\u001b[1;33m,\u001b[0m \u001b[0mstride\u001b[0m\u001b[1;33m)\u001b[0m\u001b[1;33m,\u001b[0m\u001b[1;33m]\u001b[0m \u001b[1;33m*\u001b[0m \u001b[0mlen\u001b[0m\u001b[1;33m(\u001b[0m\u001b[0mflist\u001b[0m\u001b[1;33m)\u001b[0m \u001b[1;32mif\u001b[0m \u001b[0mstride\u001b[0m \u001b[1;32mis\u001b[0m \u001b[1;32mnot\u001b[0m \u001b[1;32mNone\u001b[0m \u001b[1;32melse\u001b[0m \u001b[0mframe_slice_\u001b[0m\u001b[1;33m\u001b[0m\u001b[0m\n\u001b[0;32m    211\u001b[0m             \u001b[0mself\u001b[0m\u001b[1;33m.\u001b[0m\u001b[0m_load\u001b[0m\u001b[1;33m(\u001b[0m\u001b[0mflist\u001b[0m\u001b[1;33m,\u001b[0m \u001b[0mtop\u001b[0m\u001b[1;33m=\u001b[0m\u001b[0mtop\u001b[0m\u001b[1;33m,\u001b[0m \u001b[0mframe_slice\u001b[0m\u001b[1;33m=\u001b[0m\u001b[0mframe_slice_\u001b[0m\u001b[1;33m)\u001b[0m\u001b[1;33m\u001b[0m\u001b[0m\n",
      "\u001b[1;31mValueError\u001b[0m: must provie a filename or list of filenames or file pattern"
     ]
    }
   ],
   "source": [
    "# we can reuse loaded topology from `traj`\n",
    "ref = pt.load('trpzip2.1LE1.1.rst7', top=traj.top)\n",
    "print(ref)"
   ]
  },
  {
   "cell_type": "markdown",
   "metadata": {},
   "source": [
    "### Computing RMSD to a Reference"
   ]
  },
  {
   "cell_type": "code",
   "execution_count": null,
   "metadata": {
    "collapsed": false
   },
   "outputs": [],
   "source": [
    "data_rmsd_ref = pt.rmsd(traj, ref=ref, mask=\":1-13&!@H*\")\n",
    "print(data_rmsd_ref)"
   ]
  },
  {
   "cell_type": "markdown",
   "metadata": {},
   "source": [
    "## Plotting two RMSDs\n",
    "\n",
    "We can plot rmsd to 1st frame (previously calculated) and rmsd to reference (NMR)"
   ]
  },
  {
   "cell_type": "code",
   "execution_count": null,
   "metadata": {
    "collapsed": false
   },
   "outputs": [],
   "source": [
    "plt.plot(data_rmsd_first, label='to first')\n",
    "plt.plot(data_rmsd_ref, label='to NMR')\n",
    "plt.xlabel('Frame')\n",
    "plt.ylabel('RMSD (Angstrom)')\n",
    "plt.legend()"
   ]
  },
  {
   "cell_type": "markdown",
   "metadata": {},
   "source": [
    "### Computing dihedral angles\n",
    "\n",
    "In this case, we are computing phi and psi angle for residues 2 to 12. We tell pytraj to convert raw data to pandas's DataFrame\n",
    "to better visualization in notebook"
   ]
  },
  {
   "cell_type": "code",
   "execution_count": null,
   "metadata": {
    "collapsed": false
   },
   "outputs": [],
   "source": [
    "phipsi = pt.multidihedral(traj, resrange='1-12', dhtypes=\"phi psi\", dtype='dataframe')"
   ]
  },
  {
   "cell_type": "markdown",
   "metadata": {},
   "source": [
    "### Pretty display data\n",
    "\n",
    "In this case, we only display a part of the data"
   ]
  },
  {
   "cell_type": "code",
   "execution_count": null,
   "metadata": {
    "collapsed": false
   },
   "outputs": [],
   "source": [
    "phipsi.head(5)"
   ]
  },
  {
   "cell_type": "markdown",
   "metadata": {},
   "source": [
    "### Getting some basic info"
   ]
  },
  {
   "cell_type": "code",
   "execution_count": null,
   "metadata": {
    "collapsed": false
   },
   "outputs": [],
   "source": [
    "phipsi.describe()"
   ]
  },
  {
   "cell_type": "markdown",
   "metadata": {},
   "source": [
    "### Plotting dihedral\n",
    "\n",
    "In this case, we are plotting Psi dihedral for residue 4 (TRP)"
   ]
  },
  {
   "cell_type": "code",
   "execution_count": null,
   "metadata": {
    "collapsed": false
   },
   "outputs": [],
   "source": [
    "plt.plot(phipsi['psi_8'], '-bo', markersize=3, linewidth=0)\n",
    "plt.xlabel('Frame')\n",
    "plt.ylabel('Phi4')"
   ]
  },
  {
   "cell_type": "markdown",
   "metadata": {},
   "source": [
    "# Get some information about the structure"
   ]
  },
  {
   "cell_type": "code",
   "execution_count": null,
   "metadata": {
    "collapsed": false,
    "scrolled": false
   },
   "outputs": [],
   "source": [
    "top = traj.top\n",
    "\n",
    "for residue in top.residues:\n",
    "    # Note: In python, 0-based index is used.\n",
    "    # For example: SER0 should be first residue\n",
    "    print(residue)"
   ]
  },
  {
   "cell_type": "code",
   "execution_count": null,
   "metadata": {
    "collapsed": false,
    "scrolled": false
   },
   "outputs": [],
   "source": [
    "traj.top.atomlist[:10]"
   ]
  },
  {
   "cell_type": "markdown",
   "metadata": {},
   "source": [
    "## Tips\n",
    "\n",
    "- Run bash command: Use !"
   ]
  },
  {
   "cell_type": "code",
   "execution_count": null,
   "metadata": {
    "collapsed": false
   },
   "outputs": [],
   "source": [
    "! echo Hello"
   ]
  },
  {
   "cell_type": "markdown",
   "metadata": {},
   "source": [
    "- How to run this notebook?\n",
    "    \n",
    "    - Run all commands: **Cell -> Run All**\n",
    "    - Run each Cell: **Ctrl-Enter**\n",
    "    - Run each Cell and jump to next Cell: **Shift-Enter**\n",
    "- How to save all commands to Python script: Choose **File -> Download as -> Python (.py)**\n",
    "- How to save figures in this notebook: Right click and choose **Save image as** (or similiar command)\n",
    "- More info? Choose **Help -> Keyboard Shortcuts**"
   ]
  },
  {
   "cell_type": "markdown",
   "metadata": {
    "collapsed": true
   },
   "source": [
    "## See also\n",
    "\n",
    "If you would like to learn more about ``pytraj``, please see unofficial AMBER tutorials for pytraj in [pytraj website](http://amber-md.github.io/pytraj/latest/tutorials/index.html)"
   ]
  }
 ],
 "metadata": {
  "kernelspec": {
   "display_name": "Python 3",
   "language": "python",
   "name": "python3"
  },
  "language_info": {
   "codemirror_mode": {
    "name": "ipython",
    "version": 3
   },
   "file_extension": ".py",
   "mimetype": "text/x-python",
   "name": "python",
   "nbconvert_exporter": "python",
   "pygments_lexer": "ipython3",
   "version": "3.5.1"
  }
 },
 "nbformat": 4,
 "nbformat_minor": 0
}
