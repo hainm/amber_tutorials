{
 "cells": [
  {
   "cell_type": "markdown",
   "metadata": {},
   "source": [
    "## What is Jupyter notebook?\n",
    "\n",
    "Direct introduction from [Jupyter notebook website](http://jupyter.org/)\n",
    "\n",
    "\n"
   ]
  },
  {
   "cell_type": "markdown",
   "metadata": {},
   "source": [
    "## What is pytraj?\n",
    "\n",
    "pytraj is a Python package binding to the popular cpptraj program. pytraj is written do extend the flexibility of cpptraj and to expose cpptraj's functionanity to Python's ecossytem, such as numpy, pandas, matplotlib, ..."
   ]
  },
  {
   "cell_type": "markdown",
   "metadata": {},
   "source": [
    "## What can you learn from this tutorial\n",
    "\n",
    "- Use Jupyter notebook for interective data exploration\n",
    "\n",
    "- Use pytraj to perform basis analysis such computing RMSD, center of mass distance, dihedral angles, ...\n",
    "\n",
    "- Use matplotlib and pandas for analyzing output from pytraj\n"
   ]
  },
  {
   "cell_type": "markdown",
   "metadata": {},
   "source": [
    "## Requirement\n",
    "\n",
    "- AmberTools >= 16\n",
    "- If you allow AMBER to install Python distribution from Miniconda, you has all needed packages for this tutorial.\n",
    "- If not, you need to install (either using `pip` or `conda`)\n",
    "    - matplotlib\n",
    "    - pandas\n",
    "    - jupyter notebook"
   ]
  },
  {
   "cell_type": "markdown",
   "metadata": {},
   "source": [
    "### Start notebook\n",
    "\n",
    "```bash\n",
    "    amber.jupyter notebook\n",
    "```"
   ]
  }
 ],
 "metadata": {
  "kernelspec": {
   "display_name": "Python 3",
   "language": "python",
   "name": "python3"
  },
  "language_info": {
   "codemirror_mode": {
    "name": "ipython",
    "version": 3
   },
   "file_extension": ".py",
   "mimetype": "text/x-python",
   "name": "python",
   "nbconvert_exporter": "python",
   "pygments_lexer": "ipython3",
   "version": "3.5.1"
  }
 },
 "nbformat": 4,
 "nbformat_minor": 0
}
