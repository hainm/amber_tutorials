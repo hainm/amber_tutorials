{
 "cells": [
  {
   "cell_type": "markdown",
   "metadata": {},
   "source": [
    "## <center> AMBER Tutorial </center>\n",
    "# <center> Interactive data analysis with pytraj and Jupyter notebook </center>\n",
    "### <center> By Hai Nguyen (BSD 2-clause) </center>"
   ]
  },
  {
   "cell_type": "markdown",
   "metadata": {},
   "source": [
    "## What is Jupyter notebook?\n",
    "\n",
    "Direct introduction and figure from [Jupyter notebook website](http://jupyter.org/):\n",
    "\n",
    "\"The Jupyter Notebook is a web application that allows you to create and share documents that contain live code, equations, visualizations and explanatory text. Uses include: data cleaning and transformation, numerical simulation, statistical modeling, machine learning and much more.\"\n",
    "\n",
    "<img src=\"jupyterpreview.png\", width=500>\n",
    "\n"
   ]
  },
  {
   "cell_type": "markdown",
   "metadata": {},
   "source": [
    "## What is pytraj?\n",
    "\n",
    "pytraj is a Python package binding to the popular cpptraj program. pytraj is written do extend the flexibility of cpptraj and to expose cpptraj's functionality to Python's ecossytem, such as numpy, pandas, matplotlib, ..."
   ]
  },
  {
   "cell_type": "markdown",
   "metadata": {},
   "source": [
    "## What can you learn from this tutorial\n",
    "\n",
    "- Use Jupyter notebook for interective data exploration\n",
    "\n",
    "- Use pytraj to perform basis analysis such computing RMSD, center of mass distance, dihedral angles, ...\n",
    "\n",
    "- Use matplotlib and pandas for analyzing output from pytraj\n"
   ]
  },
  {
   "cell_type": "markdown",
   "metadata": {},
   "source": [
    "## Requirement\n",
    "\n",
    "- [AmberTools >= 16](http://ambermd.org/#AmberTools)\n",
    "- If you allow AMBER to install Python distribution from Miniconda, you have all needed packages for this tutorial.\n",
    "- If not, you need to install (either using `pip` or `conda`)\n",
    "    - matplotlib\n",
    "    - jupyter notebook\n",
    "- Install [pandas](http://pandas.pydata.org/): \n",
    "    ```bash\n",
    "     amber.conda install pandas\n",
    "    ```\n",
    "- You know how to use Linux command line. If not, please check [basic AMBER tutorial](http://ambermd.org/tutorials/basic/tutorial0/)"
   ]
  },
  {
   "cell_type": "markdown",
   "metadata": {},
   "source": [
    "## Download requried trajetories, topology\n",
    "\n",
    "[trpzip2.gb.nc](http://ambermd.org/tutorials/analysis/tutorial1/trpzip2.gb.nc)\n",
    "\n",
    "[trpzip2.ff10.mbondi2.parm7](http://ambermd.org/tutorials/analysis/tutorial1/trpzip2.ff10.mbondi.parm7)\n",
    "\n",
    "[trpzip2.1LE1.1.rst7](http://ambermd.org/tutorials/analysis/tutorial1/trpzip2.1LE1.1.rst7)\n",
    "\n",
    "Or open the website: http://ambermd.org/tutorials/analysis/tutorial1/ and manually download them."
   ]
  },
  {
   "cell_type": "markdown",
   "metadata": {},
   "source": [
    "### Start notebook\n",
    "\n",
    "```bash\n",
    "$ amber.jupyter notebook\n",
    "(or jupyter notebook if you did not allow AMBER to install Miniconda)\n",
    "```\n",
    "\n",
    "- If you want to use the notebook remotely (run it in your remote cluster and view it in your desktop), please check [remote notebook tutorial]()\n",
    "\n",
    "- **Note**: This tutorial is written in the Jupyter notebook, so you can [download]() and run it too.\n",
    "\n",
    "- How to follow this tutorial? Copy and paste each command in this tutorial to the notebook, hit \"**Shift-Enter**\" to run and to create new Cell. Check **Tips** in the end of this tutorial for useful commands.\n",
    "\n",
    "- You should expect to see\n",
    "\n",
    "![](jupyter_open.png)\n",
    "\n",
    "- Choose New --> Python 2 (or Python 3, depending on which version you're using)\n",
    "\n",
    "- You should expect to see\n",
    "![](jupyter_new.png)\n",
    "\n",
    "Then you can copy/paste and run commands."
   ]
  },
  {
   "cell_type": "markdown",
   "metadata": {},
   "source": [
    "### Load trajectory to memory"
   ]
  },
  {
   "cell_type": "code",
   "execution_count": 1,
   "metadata": {
    "collapsed": false
   },
   "outputs": [],
   "source": [
    "from __future__ import print_function\n",
    "import pytraj as pt\n",
    "\n",
    "traj = pt.load('trpzip2.gb.nc', top='trpzip2.ff10.mbondi.parm7')"
   ]
  },
  {
   "cell_type": "markdown",
   "metadata": {},
   "source": [
    "### Get some basic information about the trajectory"
   ]
  },
  {
   "cell_type": "code",
   "execution_count": 2,
   "metadata": {
    "collapsed": false
   },
   "outputs": [
    {
     "name": "stdout",
     "output_type": "stream",
     "text": [
      "pytraj.Trajectory, 1201 frames: \n",
      "Size: 0.005906 (GB)\n",
      "<Topology: 220 atoms, 13 residues, 1 mols, non-PBC>\n",
      "           \n"
     ]
    }
   ],
   "source": [
    "print(traj)"
   ]
  },
  {
   "cell_type": "markdown",
   "metadata": {},
   "source": [
    "### Calculating RMSD, using 1st frame as reference\n",
    "\n",
    "In this case we are computing mass-weighted RMSD, using all non-hydrogen atoms in residues 1 to 13"
   ]
  },
  {
   "cell_type": "code",
   "execution_count": 3,
   "metadata": {
    "collapsed": false
   },
   "outputs": [
    {
     "name": "stdout",
     "output_type": "stream",
     "text": [
      "[  2.30050392e-07   7.92393865e-01   9.72257525e-01 ...,   2.51047183e+00\n",
      "   2.44805673e+00   2.33894156e+00]\n"
     ]
    }
   ],
   "source": [
    "data_rmsd_first = pt.rmsd(traj, ref=0, mask=\":1-13&!@H*\")\n",
    "\n",
    "print(data_rmsd_first)"
   ]
  },
  {
   "cell_type": "markdown",
   "metadata": {},
   "source": [
    "### Using matplotlib to plot"
   ]
  },
  {
   "cell_type": "code",
   "execution_count": 4,
   "metadata": {
    "collapsed": false
   },
   "outputs": [
    {
     "data": {
      "text/plain": [
       "<matplotlib.text.Text at 0x2aaacffeee80>"
      ]
     },
     "execution_count": 4,
     "metadata": {},
     "output_type": "execute_result"
    },
    {
     "data": {
      "image/png": "[encoded data removed]",
      "text/plain": [
       "<matplotlib.figure.Figure at 0x2aaacccc2208>"
      ]
     },
     "metadata": {},
     "output_type": "display_data"
    }
   ],
   "source": [
    "%matplotlib inline\n",
    "\n",
    "from matplotlib import pyplot as plt\n",
    "\n",
    "plt.plot(data_rmsd_first)\n",
    "plt.xlabel('Frame')\n",
    "plt.ylabel('RMSD (Angstrom)')"
   ]
  },
  {
   "cell_type": "markdown",
   "metadata": {},
   "source": [
    "### Loading reference structure\n",
    "\n",
    "In this case, we are loading the NMR structure for trpzip2"
   ]
  },
  {
   "cell_type": "code",
   "execution_count": 5,
   "metadata": {
    "collapsed": false
   },
   "outputs": [
    {
     "name": "stdout",
     "output_type": "stream",
     "text": [
      "pytraj.Trajectory, 1 frames: \n",
      "Size: 0.000005 (GB)\n",
      "<Topology: 220 atoms, 13 residues, 1 mols, non-PBC>\n",
      "           \n"
     ]
    }
   ],
   "source": [
    "# we can reuse loaded topology from `traj`\n",
    "ref = pt.load('trpzip2.1LE1.1.rst7', top=traj.top)\n",
    "print(ref)"
   ]
  },
  {
   "cell_type": "markdown",
   "metadata": {},
   "source": [
    "### Computing RMSD to a Reference"
   ]
  },
  {
   "cell_type": "code",
   "execution_count": 6,
   "metadata": {
    "collapsed": false
   },
   "outputs": [
    {
     "name": "stdout",
     "output_type": "stream",
     "text": [
      "[ 1.28171363  0.98184973  0.95976186 ...,  2.1723379   2.21177339\n",
      "  2.10760399]\n"
     ]
    }
   ],
   "source": [
    "data_rmsd_ref = pt.rmsd(traj, ref=ref, mask=\":1-13&!@H*\")\n",
    "print(data_rmsd_ref)"
   ]
  },
  {
   "cell_type": "markdown",
   "metadata": {},
   "source": [
    "## Plotting two RMSDs\n",
    "\n",
    "We can plot rmsd to 1st frame (previously calculated) and rmsd to reference (NMR)"
   ]
  },
  {
   "cell_type": "code",
   "execution_count": 7,
   "metadata": {
    "collapsed": false
   },
   "outputs": [
    {
     "data": {
      "text/plain": [
       "<matplotlib.legend.Legend at 0x2aaad5f10ef0>"
      ]
     },
     "execution_count": 7,
     "metadata": {},
     "output_type": "execute_result"
    },
    {
     "data": {
      "image/png": "[encoded data removed]",
      "text/plain": [
       "<matplotlib.figure.Figure at 0x2aaad5eb3470>"
      ]
     },
     "metadata": {},
     "output_type": "display_data"
    }
   ],
   "source": [
    "plt.plot(data_rmsd_first, label='to first')\n",
    "plt.plot(data_rmsd_ref, label='to NMR')\n",
    "plt.xlabel('Frame')\n",
    "plt.ylabel('RMSD (Angstrom)')\n",
    "plt.legend()"
   ]
  },
  {
   "cell_type": "markdown",
   "metadata": {},
   "source": [
    "### Computing dihedral angles\n",
    "\n",
    "In this case, we are computing phi and psi angle for residues 2 to 12. We tell pytraj to convert raw data to pandas's DataFrame\n",
    "to better visualization in notebook"
   ]
  },
  {
   "cell_type": "code",
   "execution_count": 8,
   "metadata": {
    "collapsed": false
   },
   "outputs": [],
   "source": [
    "phipsi = pt.multidihedral(traj, resrange='1-12', dhtypes=\"phi psi\", dtype='dataframe')"
   ]
  },
  {
   "cell_type": "markdown",
   "metadata": {},
   "source": [
    "### Pretty display data\n",
    "\n",
    "In this case, we only display a part of the data"
   ]
  },
  {
   "cell_type": "code",
   "execution_count": 9,
   "metadata": {
    "collapsed": false
   },
   "outputs": [
    {
     "data": {
      "text/html": [
       "<div>\n",
       "<table border=\"1\" class=\"dataframe\">\n",
       "  <thead>\n",
       "    <tr style=\"text-align: right;\">\n",
       "      <th></th>\n",
       "      <th>psi_1</th>\n",
       "      <th>phi_2</th>\n",
       "      <th>psi_2</th>\n",
       "      <th>phi_3</th>\n",
       "      <th>psi_3</th>\n",
       "      <th>phi_4</th>\n",
       "      <th>psi_4</th>\n",
       "      <th>phi_5</th>\n",
       "      <th>psi_5</th>\n",
       "      <th>phi_6</th>\n",
       "      <th>...</th>\n",
       "      <th>phi_8</th>\n",
       "      <th>psi_8</th>\n",
       "      <th>phi_9</th>\n",
       "      <th>psi_9</th>\n",
       "      <th>phi_10</th>\n",
       "      <th>psi_10</th>\n",
       "      <th>phi_11</th>\n",
       "      <th>psi_11</th>\n",
       "      <th>phi_12</th>\n",
       "      <th>psi_12</th>\n",
       "    </tr>\n",
       "  </thead>\n",
       "  <tbody>\n",
       "    <tr>\n",
       "      <th>0</th>\n",
       "      <td>143.057238</td>\n",
       "      <td>-71.912049</td>\n",
       "      <td>110.554703</td>\n",
       "      <td>-130.534160</td>\n",
       "      <td>150.355762</td>\n",
       "      <td>-75.439203</td>\n",
       "      <td>136.828950</td>\n",
       "      <td>-166.265268</td>\n",
       "      <td>142.963215</td>\n",
       "      <td>46.199010</td>\n",
       "      <td>...</td>\n",
       "      <td>-156.528812</td>\n",
       "      <td>166.852874</td>\n",
       "      <td>-77.173357</td>\n",
       "      <td>149.844131</td>\n",
       "      <td>-156.764180</td>\n",
       "      <td>179.952233</td>\n",
       "      <td>-112.173492</td>\n",
       "      <td>139.744046</td>\n",
       "      <td>-130.421221</td>\n",
       "      <td>93.645252</td>\n",
       "    </tr>\n",
       "    <tr>\n",
       "      <th>1</th>\n",
       "      <td>-178.027486</td>\n",
       "      <td>-90.470814</td>\n",
       "      <td>126.932335</td>\n",
       "      <td>-144.053052</td>\n",
       "      <td>146.266402</td>\n",
       "      <td>-83.644329</td>\n",
       "      <td>130.036725</td>\n",
       "      <td>-149.613451</td>\n",
       "      <td>140.469441</td>\n",
       "      <td>46.385612</td>\n",
       "      <td>...</td>\n",
       "      <td>-155.771388</td>\n",
       "      <td>178.131532</td>\n",
       "      <td>-99.090035</td>\n",
       "      <td>110.484146</td>\n",
       "      <td>-125.722458</td>\n",
       "      <td>156.211368</td>\n",
       "      <td>-90.678489</td>\n",
       "      <td>116.214347</td>\n",
       "      <td>-97.754242</td>\n",
       "      <td>88.744520</td>\n",
       "    </tr>\n",
       "    <tr>\n",
       "      <th>2</th>\n",
       "      <td>158.320429</td>\n",
       "      <td>-85.915454</td>\n",
       "      <td>130.576342</td>\n",
       "      <td>-133.877509</td>\n",
       "      <td>156.935094</td>\n",
       "      <td>-97.466250</td>\n",
       "      <td>138.200851</td>\n",
       "      <td>-152.872485</td>\n",
       "      <td>122.812971</td>\n",
       "      <td>50.388597</td>\n",
       "      <td>...</td>\n",
       "      <td>-147.387162</td>\n",
       "      <td>144.354872</td>\n",
       "      <td>-57.108740</td>\n",
       "      <td>149.170294</td>\n",
       "      <td>-162.381292</td>\n",
       "      <td>166.376142</td>\n",
       "      <td>-97.894963</td>\n",
       "      <td>123.384405</td>\n",
       "      <td>-107.740145</td>\n",
       "      <td>140.546132</td>\n",
       "    </tr>\n",
       "    <tr>\n",
       "      <th>3</th>\n",
       "      <td>167.771467</td>\n",
       "      <td>-90.353632</td>\n",
       "      <td>129.518734</td>\n",
       "      <td>-124.248887</td>\n",
       "      <td>149.129229</td>\n",
       "      <td>-90.913898</td>\n",
       "      <td>115.232213</td>\n",
       "      <td>-126.890970</td>\n",
       "      <td>132.339599</td>\n",
       "      <td>50.350691</td>\n",
       "      <td>...</td>\n",
       "      <td>-147.218261</td>\n",
       "      <td>142.976192</td>\n",
       "      <td>-64.039680</td>\n",
       "      <td>121.944712</td>\n",
       "      <td>-126.966801</td>\n",
       "      <td>164.214236</td>\n",
       "      <td>-81.268041</td>\n",
       "      <td>128.649117</td>\n",
       "      <td>-139.177379</td>\n",
       "      <td>151.091243</td>\n",
       "    </tr>\n",
       "    <tr>\n",
       "      <th>4</th>\n",
       "      <td>171.297894</td>\n",
       "      <td>-124.108373</td>\n",
       "      <td>139.739760</td>\n",
       "      <td>-131.330841</td>\n",
       "      <td>163.535213</td>\n",
       "      <td>-94.040970</td>\n",
       "      <td>131.921428</td>\n",
       "      <td>-140.411407</td>\n",
       "      <td>151.705385</td>\n",
       "      <td>43.331423</td>\n",
       "      <td>...</td>\n",
       "      <td>-145.656883</td>\n",
       "      <td>149.293748</td>\n",
       "      <td>-76.647407</td>\n",
       "      <td>143.642516</td>\n",
       "      <td>-138.920479</td>\n",
       "      <td>173.596284</td>\n",
       "      <td>-115.625705</td>\n",
       "      <td>152.597897</td>\n",
       "      <td>-144.155048</td>\n",
       "      <td>156.090107</td>\n",
       "    </tr>\n",
       "  </tbody>\n",
       "</table>\n",
       "<p>5 rows × 23 columns</p>\n",
       "</div>"
      ],
      "text/plain": [
       "        psi_1       phi_2       psi_2       phi_3       psi_3      phi_4  \\\n",
       "0  143.057238  -71.912049  110.554703 -130.534160  150.355762 -75.439203   \n",
       "1 -178.027486  -90.470814  126.932335 -144.053052  146.266402 -83.644329   \n",
       "2  158.320429  -85.915454  130.576342 -133.877509  156.935094 -97.466250   \n",
       "3  167.771467  -90.353632  129.518734 -124.248887  149.129229 -90.913898   \n",
       "4  171.297894 -124.108373  139.739760 -131.330841  163.535213 -94.040970   \n",
       "\n",
       "        psi_4       phi_5       psi_5      phi_6     ...           phi_8  \\\n",
       "0  136.828950 -166.265268  142.963215  46.199010     ...     -156.528812   \n",
       "1  130.036725 -149.613451  140.469441  46.385612     ...     -155.771388   \n",
       "2  138.200851 -152.872485  122.812971  50.388597     ...     -147.387162   \n",
       "3  115.232213 -126.890970  132.339599  50.350691     ...     -147.218261   \n",
       "4  131.921428 -140.411407  151.705385  43.331423     ...     -145.656883   \n",
       "\n",
       "        psi_8      phi_9       psi_9      phi_10      psi_10      phi_11  \\\n",
       "0  166.852874 -77.173357  149.844131 -156.764180  179.952233 -112.173492   \n",
       "1  178.131532 -99.090035  110.484146 -125.722458  156.211368  -90.678489   \n",
       "2  144.354872 -57.108740  149.170294 -162.381292  166.376142  -97.894963   \n",
       "3  142.976192 -64.039680  121.944712 -126.966801  164.214236  -81.268041   \n",
       "4  149.293748 -76.647407  143.642516 -138.920479  173.596284 -115.625705   \n",
       "\n",
       "       psi_11      phi_12      psi_12  \n",
       "0  139.744046 -130.421221   93.645252  \n",
       "1  116.214347  -97.754242   88.744520  \n",
       "2  123.384405 -107.740145  140.546132  \n",
       "3  128.649117 -139.177379  151.091243  \n",
       "4  152.597897 -144.155048  156.090107  \n",
       "\n",
       "[5 rows x 23 columns]"
      ]
     },
     "execution_count": 9,
     "metadata": {},
     "output_type": "execute_result"
    }
   ],
   "source": [
    "phipsi.head(5)"
   ]
  },
  {
   "cell_type": "markdown",
   "metadata": {},
   "source": [
    "### Getting some basic info"
   ]
  },
  {
   "cell_type": "code",
   "execution_count": 10,
   "metadata": {
    "collapsed": false
   },
   "outputs": [
    {
     "data": {
      "text/html": [
       "<div>\n",
       "<table border=\"1\" class=\"dataframe\">\n",
       "  <thead>\n",
       "    <tr style=\"text-align: right;\">\n",
       "      <th></th>\n",
       "      <th>psi_1</th>\n",
       "      <th>phi_2</th>\n",
       "      <th>psi_2</th>\n",
       "      <th>phi_3</th>\n",
       "      <th>psi_3</th>\n",
       "      <th>phi_4</th>\n",
       "      <th>psi_4</th>\n",
       "      <th>phi_5</th>\n",
       "      <th>psi_5</th>\n",
       "      <th>phi_6</th>\n",
       "      <th>...</th>\n",
       "      <th>phi_8</th>\n",
       "      <th>psi_8</th>\n",
       "      <th>phi_9</th>\n",
       "      <th>psi_9</th>\n",
       "      <th>phi_10</th>\n",
       "      <th>psi_10</th>\n",
       "      <th>phi_11</th>\n",
       "      <th>psi_11</th>\n",
       "      <th>phi_12</th>\n",
       "      <th>psi_12</th>\n",
       "    </tr>\n",
       "  </thead>\n",
       "  <tbody>\n",
       "    <tr>\n",
       "      <th>count</th>\n",
       "      <td>1201.000000</td>\n",
       "      <td>1201.000000</td>\n",
       "      <td>1201.000000</td>\n",
       "      <td>1201.000000</td>\n",
       "      <td>1201.000000</td>\n",
       "      <td>1201.000000</td>\n",
       "      <td>1201.000000</td>\n",
       "      <td>1201.000000</td>\n",
       "      <td>1201.000000</td>\n",
       "      <td>1201.000000</td>\n",
       "      <td>...</td>\n",
       "      <td>1201.000000</td>\n",
       "      <td>1201.000000</td>\n",
       "      <td>1201.000000</td>\n",
       "      <td>1201.000000</td>\n",
       "      <td>1201.000000</td>\n",
       "      <td>1201.000000</td>\n",
       "      <td>1201.000000</td>\n",
       "      <td>1201.000000</td>\n",
       "      <td>1201.000000</td>\n",
       "      <td>1201.000000</td>\n",
       "    </tr>\n",
       "    <tr>\n",
       "      <th>mean</th>\n",
       "      <td>139.778710</td>\n",
       "      <td>-82.626524</td>\n",
       "      <td>138.210104</td>\n",
       "      <td>-136.755794</td>\n",
       "      <td>144.030171</td>\n",
       "      <td>-84.227620</td>\n",
       "      <td>131.166893</td>\n",
       "      <td>-143.707816</td>\n",
       "      <td>105.065698</td>\n",
       "      <td>42.818831</td>\n",
       "      <td>...</td>\n",
       "      <td>-133.038724</td>\n",
       "      <td>140.161090</td>\n",
       "      <td>-98.861452</td>\n",
       "      <td>136.386463</td>\n",
       "      <td>-142.973055</td>\n",
       "      <td>143.382122</td>\n",
       "      <td>-91.975208</td>\n",
       "      <td>131.600521</td>\n",
       "      <td>-127.762462</td>\n",
       "      <td>138.960641</td>\n",
       "    </tr>\n",
       "    <tr>\n",
       "      <th>std</th>\n",
       "      <td>66.915955</td>\n",
       "      <td>15.389925</td>\n",
       "      <td>14.920240</td>\n",
       "      <td>12.014833</td>\n",
       "      <td>38.877590</td>\n",
       "      <td>16.317879</td>\n",
       "      <td>12.427970</td>\n",
       "      <td>13.340660</td>\n",
       "      <td>39.313901</td>\n",
       "      <td>27.917397</td>\n",
       "      <td>...</td>\n",
       "      <td>17.705276</td>\n",
       "      <td>72.724102</td>\n",
       "      <td>22.269541</td>\n",
       "      <td>15.230773</td>\n",
       "      <td>12.746998</td>\n",
       "      <td>63.335667</td>\n",
       "      <td>15.849408</td>\n",
       "      <td>14.605431</td>\n",
       "      <td>15.254602</td>\n",
       "      <td>48.709939</td>\n",
       "    </tr>\n",
       "    <tr>\n",
       "      <th>min</th>\n",
       "      <td>-179.778953</td>\n",
       "      <td>-148.202476</td>\n",
       "      <td>-178.638121</td>\n",
       "      <td>-165.413872</td>\n",
       "      <td>-179.968761</td>\n",
       "      <td>-147.577326</td>\n",
       "      <td>80.866604</td>\n",
       "      <td>-176.154622</td>\n",
       "      <td>-179.166655</td>\n",
       "      <td>-77.338312</td>\n",
       "      <td>...</td>\n",
       "      <td>-173.267065</td>\n",
       "      <td>-179.915161</td>\n",
       "      <td>-154.605447</td>\n",
       "      <td>-175.036491</td>\n",
       "      <td>-176.621379</td>\n",
       "      <td>-179.784055</td>\n",
       "      <td>-160.690845</td>\n",
       "      <td>5.429666</td>\n",
       "      <td>-168.402552</td>\n",
       "      <td>-179.830909</td>\n",
       "    </tr>\n",
       "    <tr>\n",
       "      <th>25%</th>\n",
       "      <td>143.456227</td>\n",
       "      <td>-90.718102</td>\n",
       "      <td>130.981588</td>\n",
       "      <td>-145.049051</td>\n",
       "      <td>140.104800</td>\n",
       "      <td>-94.353636</td>\n",
       "      <td>123.182218</td>\n",
       "      <td>-152.771024</td>\n",
       "      <td>71.362192</td>\n",
       "      <td>42.089928</td>\n",
       "      <td>...</td>\n",
       "      <td>-145.198511</td>\n",
       "      <td>147.098020</td>\n",
       "      <td>-116.261532</td>\n",
       "      <td>128.810010</td>\n",
       "      <td>-151.338311</td>\n",
       "      <td>145.896823</td>\n",
       "      <td>-100.958598</td>\n",
       "      <td>125.783499</td>\n",
       "      <td>-139.094235</td>\n",
       "      <td>137.660151</td>\n",
       "    </tr>\n",
       "    <tr>\n",
       "      <th>50%</th>\n",
       "      <td>153.816869</td>\n",
       "      <td>-81.055011</td>\n",
       "      <td>139.469948</td>\n",
       "      <td>-137.983975</td>\n",
       "      <td>147.842524</td>\n",
       "      <td>-82.585343</td>\n",
       "      <td>131.887478</td>\n",
       "      <td>-145.219714</td>\n",
       "      <td>115.641876</td>\n",
       "      <td>49.783825</td>\n",
       "      <td>...</td>\n",
       "      <td>-135.749190</td>\n",
       "      <td>156.955396</td>\n",
       "      <td>-96.528755</td>\n",
       "      <td>137.373226</td>\n",
       "      <td>-144.029940</td>\n",
       "      <td>156.293670</td>\n",
       "      <td>-90.427707</td>\n",
       "      <td>132.943056</td>\n",
       "      <td>-129.764304</td>\n",
       "      <td>149.182601</td>\n",
       "    </tr>\n",
       "    <tr>\n",
       "      <th>75%</th>\n",
       "      <td>163.175553</td>\n",
       "      <td>-72.603614</td>\n",
       "      <td>146.270957</td>\n",
       "      <td>-129.647734</td>\n",
       "      <td>156.125693</td>\n",
       "      <td>-73.350432</td>\n",
       "      <td>140.019820</td>\n",
       "      <td>-136.516230</td>\n",
       "      <td>134.998512</td>\n",
       "      <td>55.870465</td>\n",
       "      <td>...</td>\n",
       "      <td>-124.676736</td>\n",
       "      <td>165.426444</td>\n",
       "      <td>-81.110786</td>\n",
       "      <td>144.889034</td>\n",
       "      <td>-135.242810</td>\n",
       "      <td>164.513799</td>\n",
       "      <td>-80.461532</td>\n",
       "      <td>140.355434</td>\n",
       "      <td>-119.242939</td>\n",
       "      <td>158.770225</td>\n",
       "    </tr>\n",
       "    <tr>\n",
       "      <th>max</th>\n",
       "      <td>179.975207</td>\n",
       "      <td>-44.855565</td>\n",
       "      <td>168.485502</td>\n",
       "      <td>-73.519375</td>\n",
       "      <td>179.145646</td>\n",
       "      <td>-37.436428</td>\n",
       "      <td>166.331044</td>\n",
       "      <td>-64.705252</td>\n",
       "      <td>176.879019</td>\n",
       "      <td>78.375160</td>\n",
       "      <td>...</td>\n",
       "      <td>-46.422130</td>\n",
       "      <td>179.624114</td>\n",
       "      <td>-46.588036</td>\n",
       "      <td>170.657030</td>\n",
       "      <td>-78.802249</td>\n",
       "      <td>179.993750</td>\n",
       "      <td>-53.556971</td>\n",
       "      <td>166.280275</td>\n",
       "      <td>-46.786585</td>\n",
       "      <td>179.858390</td>\n",
       "    </tr>\n",
       "  </tbody>\n",
       "</table>\n",
       "<p>8 rows × 23 columns</p>\n",
       "</div>"
      ],
      "text/plain": [
       "             psi_1        phi_2        psi_2        phi_3        psi_3  \\\n",
       "count  1201.000000  1201.000000  1201.000000  1201.000000  1201.000000   \n",
       "mean    139.778710   -82.626524   138.210104  -136.755794   144.030171   \n",
       "std      66.915955    15.389925    14.920240    12.014833    38.877590   \n",
       "min    -179.778953  -148.202476  -178.638121  -165.413872  -179.968761   \n",
       "25%     143.456227   -90.718102   130.981588  -145.049051   140.104800   \n",
       "50%     153.816869   -81.055011   139.469948  -137.983975   147.842524   \n",
       "75%     163.175553   -72.603614   146.270957  -129.647734   156.125693   \n",
       "max     179.975207   -44.855565   168.485502   -73.519375   179.145646   \n",
       "\n",
       "             phi_4        psi_4        phi_5        psi_5        phi_6  \\\n",
       "count  1201.000000  1201.000000  1201.000000  1201.000000  1201.000000   \n",
       "mean    -84.227620   131.166893  -143.707816   105.065698    42.818831   \n",
       "std      16.317879    12.427970    13.340660    39.313901    27.917397   \n",
       "min    -147.577326    80.866604  -176.154622  -179.166655   -77.338312   \n",
       "25%     -94.353636   123.182218  -152.771024    71.362192    42.089928   \n",
       "50%     -82.585343   131.887478  -145.219714   115.641876    49.783825   \n",
       "75%     -73.350432   140.019820  -136.516230   134.998512    55.870465   \n",
       "max     -37.436428   166.331044   -64.705252   176.879019    78.375160   \n",
       "\n",
       "          ...             phi_8        psi_8        phi_9        psi_9  \\\n",
       "count     ...       1201.000000  1201.000000  1201.000000  1201.000000   \n",
       "mean      ...       -133.038724   140.161090   -98.861452   136.386463   \n",
       "std       ...         17.705276    72.724102    22.269541    15.230773   \n",
       "min       ...       -173.267065  -179.915161  -154.605447  -175.036491   \n",
       "25%       ...       -145.198511   147.098020  -116.261532   128.810010   \n",
       "50%       ...       -135.749190   156.955396   -96.528755   137.373226   \n",
       "75%       ...       -124.676736   165.426444   -81.110786   144.889034   \n",
       "max       ...        -46.422130   179.624114   -46.588036   170.657030   \n",
       "\n",
       "            phi_10       psi_10       phi_11       psi_11       phi_12  \\\n",
       "count  1201.000000  1201.000000  1201.000000  1201.000000  1201.000000   \n",
       "mean   -142.973055   143.382122   -91.975208   131.600521  -127.762462   \n",
       "std      12.746998    63.335667    15.849408    14.605431    15.254602   \n",
       "min    -176.621379  -179.784055  -160.690845     5.429666  -168.402552   \n",
       "25%    -151.338311   145.896823  -100.958598   125.783499  -139.094235   \n",
       "50%    -144.029940   156.293670   -90.427707   132.943056  -129.764304   \n",
       "75%    -135.242810   164.513799   -80.461532   140.355434  -119.242939   \n",
       "max     -78.802249   179.993750   -53.556971   166.280275   -46.786585   \n",
       "\n",
       "            psi_12  \n",
       "count  1201.000000  \n",
       "mean    138.960641  \n",
       "std      48.709939  \n",
       "min    -179.830909  \n",
       "25%     137.660151  \n",
       "50%     149.182601  \n",
       "75%     158.770225  \n",
       "max     179.858390  \n",
       "\n",
       "[8 rows x 23 columns]"
      ]
     },
     "execution_count": 10,
     "metadata": {},
     "output_type": "execute_result"
    }
   ],
   "source": [
    "phipsi.describe()"
   ]
  },
  {
   "cell_type": "markdown",
   "metadata": {},
   "source": [
    "### Plotting dihedral\n",
    "\n",
    "In this case, we are plotting Psi dihedral for residue 4 (TRP)"
   ]
  },
  {
   "cell_type": "code",
   "execution_count": 11,
   "metadata": {
    "collapsed": false
   },
   "outputs": [
    {
     "data": {
      "text/plain": [
       "<matplotlib.text.Text at 0x2aaad8e443c8>"
      ]
     },
     "execution_count": 11,
     "metadata": {},
     "output_type": "execute_result"
    },
    {
     "data": {
      "image/png": "[encoded data removed]",
      "text/plain": [
       "<matplotlib.figure.Figure at 0x2aaad8e30320>"
      ]
     },
     "metadata": {},
     "output_type": "display_data"
    }
   ],
   "source": [
    "plt.plot(phipsi['psi_8'], '-bo', markersize=3, linewidth=0)\n",
    "plt.xlabel('Frame')\n",
    "plt.ylabel('Phi4')"
   ]
  },
  {
   "cell_type": "markdown",
   "metadata": {},
   "source": [
    "# Get some information about the structure"
   ]
  },
  {
   "cell_type": "code",
   "execution_count": 12,
   "metadata": {
    "collapsed": false,
    "scrolled": false
   },
   "outputs": [
    {
     "name": "stdout",
     "output_type": "stream",
     "text": [
      "<SER0, 13 atoms>\n",
      "<TRP1, 24 atoms>\n",
      "<THR2, 14 atoms>\n",
      "<TRP3, 24 atoms>\n",
      "<GLU4, 15 atoms>\n",
      "<ASN5, 14 atoms>\n",
      "<GLY6, 7 atoms>\n",
      "<LYS7, 22 atoms>\n",
      "<TRP8, 24 atoms>\n",
      "<THR9, 14 atoms>\n",
      "<TRP10, 24 atoms>\n",
      "<LYS11, 22 atoms>\n",
      "<NHE12, 3 atoms>\n"
     ]
    }
   ],
   "source": [
    "top = traj.top\n",
    "\n",
    "for residue in top.residues:\n",
    "    # Note: In python, 0-based index is used.\n",
    "    # For example: SER0 should be first residue\n",
    "    print(residue)"
   ]
  },
  {
   "cell_type": "code",
   "execution_count": 13,
   "metadata": {
    "collapsed": false,
    "scrolled": false
   },
   "outputs": [
    {
     "data": {
      "text/plain": [
       "[Atom(name=N, type=N3, atomic_number=7, index=0, resid=0),\n",
       " Atom(name=H1, type=H, atomic_number=1, index=1, resid=0),\n",
       " Atom(name=H2, type=H, atomic_number=1, index=2, resid=0),\n",
       " Atom(name=H3, type=H, atomic_number=1, index=3, resid=0),\n",
       " Atom(name=CA, type=CX, atomic_number=6, index=4, resid=0),\n",
       " Atom(name=HA, type=HP, atomic_number=1, index=5, resid=0),\n",
       " Atom(name=CB, type=CT, atomic_number=6, index=6, resid=0),\n",
       " Atom(name=HB2, type=H1, atomic_number=1, index=7, resid=0),\n",
       " Atom(name=HB3, type=H1, atomic_number=1, index=8, resid=0),\n",
       " Atom(name=OG, type=OH, atomic_number=8, index=9, resid=0)]"
      ]
     },
     "execution_count": 13,
     "metadata": {},
     "output_type": "execute_result"
    }
   ],
   "source": [
    "traj.top.atomlist[:10]"
   ]
  },
  {
   "cell_type": "markdown",
   "metadata": {},
   "source": [
    "## Tips\n",
    "\n",
    "- Run bash command: Use !"
   ]
  },
  {
   "cell_type": "code",
   "execution_count": 14,
   "metadata": {
    "collapsed": false
   },
   "outputs": [
    {
     "name": "stdout",
     "output_type": "stream",
     "text": [
      "Hello\r\n"
     ]
    }
   ],
   "source": [
    "! echo Hello"
   ]
  },
  {
   "cell_type": "markdown",
   "metadata": {},
   "source": [
    "- How to run this notebook?\n",
    "    \n",
    "    - Run all commands: **Cell -> Run All**\n",
    "    - Run each Cell: **Ctrl-Enter**\n",
    "    - Run each Cell and jump to next Cell: **Shift-Enter**\n",
    "- How to save all commands to Python script: Choose **File -> Download as -> Python (.py)**\n",
    "- How to save figures in this notebook: Right click and choose **Save image as** (or similiar command)\n",
    "- More info? Choose Help -> **Keyboard Shortcuts**"
   ]
  },
  {
   "cell_type": "markdown",
   "metadata": {
    "collapsed": true
   },
   "source": [
    "## See also\n",
    "\n",
    "If you would like to learn more about ``pytraj``, please see unofficial AMBER tutorials for pytraj in [pytraj website](http://amber-md.github.io/pytraj/latest/tutorials/index.html)"
   ]
  }
 ],
 "metadata": {
  "kernelspec": {
   "display_name": "Python 3",
   "language": "python",
   "name": "python3"
  },
  "language_info": {
   "codemirror_mode": {
    "name": "ipython",
    "version": 3
   },
   "file_extension": ".py",
   "mimetype": "text/x-python",
   "name": "python",
   "nbconvert_exporter": "python",
   "pygments_lexer": "ipython3",
   "version": "3.5.1"
  }
 },
 "nbformat": 4,
 "nbformat_minor": 0
}
